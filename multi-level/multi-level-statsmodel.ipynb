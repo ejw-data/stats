{
 "cells": [
  {
   "cell_type": "code",
   "execution_count": 1,
   "metadata": {},
   "outputs": [],
   "source": [
    "# Dependencies\n",
    "import pandas as pd\n",
    "import numpy as np\n",
    "import statsmodels.api as sm"
   ]
  },
  {
   "cell_type": "code",
   "execution_count": 2,
   "metadata": {},
   "outputs": [],
   "source": [
    "# Generate sample data (replace this with your own dataset)\n",
    "np.random.seed(42)\n",
    "num_students_per_school = 30\n",
    "num_schools = 10\n",
    "\n",
    "data = {\n",
    "    'SchoolID': np.repeat(np.arange(num_schools), num_students_per_school),\n",
    "    'StudyHours': np.random.randint(1, 6, num_students_per_school * num_schools),\n",
    "    'TestScore': np.random.randint(50, 100, num_students_per_school * num_schools)\n",
    "}\n",
    "\n",
    "df = pd.DataFrame(data)"
   ]
  },
  {
   "cell_type": "code",
   "execution_count": 3,
   "metadata": {},
   "outputs": [
    {
     "name": "stderr",
     "output_type": "stream",
     "text": [
      "c:\\Users\\ejwda\\Anaconda3\\envs\\python310\\lib\\site-packages\\statsmodels\\regression\\mixed_linear_model.py:1634: UserWarning: Random effects covariance is singular\n",
      "  warnings.warn(msg)\n",
      "c:\\Users\\ejwda\\Anaconda3\\envs\\python310\\lib\\site-packages\\statsmodels\\regression\\mixed_linear_model.py:2237: ConvergenceWarning: The MLE may be on the boundary of the parameter space.\n",
      "  warnings.warn(msg, ConvergenceWarning)\n"
     ]
    }
   ],
   "source": [
    "# Fit a multilevel model\n",
    "model = sm.MixedLM.from_formula(\"TestScore ~ StudyHours\", data=df, groups=df[\"SchoolID\"])\n",
    "result = model.fit()"
   ]
  },
  {
   "cell_type": "code",
   "execution_count": 4,
   "metadata": {},
   "outputs": [
    {
     "name": "stdout",
     "output_type": "stream",
     "text": [
      "         Mixed Linear Model Regression Results\n",
      "========================================================\n",
      "Model:            MixedLM Dependent Variable: TestScore \n",
      "No. Observations: 300     Method:             REML      \n",
      "No. Groups:       10      Scale:              198.1744  \n",
      "Min. group size:  30      Log-Likelihood:     -1216.9663\n",
      "Max. group size:  30      Converged:          Yes       \n",
      "Mean group size:  30.0                                  \n",
      "--------------------------------------------------------\n",
      "              Coef.  Std.Err.   z    P>|z| [0.025 0.975]\n",
      "--------------------------------------------------------\n",
      "Intercept     76.741    1.913 40.108 0.000 72.991 80.491\n",
      "StudyHours    -0.388    0.587 -0.661 0.509 -1.537  0.762\n",
      "Group Var      0.000    0.290                           \n",
      "========================================================\n",
      "\n"
     ]
    }
   ],
   "source": [
    "# Print the summary of the model\n",
    "print(result.summary())"
   ]
  }
 ],
 "metadata": {
  "kernelspec": {
   "display_name": "python310",
   "language": "python",
   "name": "python3"
  },
  "language_info": {
   "codemirror_mode": {
    "name": "ipython",
    "version": 3
   },
   "file_extension": ".py",
   "mimetype": "text/x-python",
   "name": "python",
   "nbconvert_exporter": "python",
   "pygments_lexer": "ipython3",
   "version": "3.10.11"
  },
  "orig_nbformat": 4
 },
 "nbformat": 4,
 "nbformat_minor": 2
}

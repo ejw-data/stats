{
 "cells": [
  {
   "cell_type": "code",
   "execution_count": null,
   "metadata": {},
   "outputs": [],
   "source": [
    "# pip install pyDOE"
   ]
  },
  {
   "cell_type": "code",
   "execution_count": null,
   "metadata": {},
   "outputs": [],
   "source": [
    "# Dependencies\n",
    "import numpy as np\n",
    "from pyDOE import ff2n"
   ]
  },
  {
   "cell_type": "code",
   "execution_count": null,
   "metadata": {},
   "outputs": [],
   "source": [
    "# Define the levels for each factor\n",
    "levels = 2  # Two levels (low and high)\n",
    "\n",
    "# Create a full factorial design with 2 factors\n",
    "factors = 2\n",
    "design = ff2n(factors)\n",
    "\n",
    "# Convert the design matrix into the actual levels\n",
    "design = (design + 1) / 2 * (levels - 1)\n",
    "\n",
    "print(design)\n"
   ]
  }
 ],
 "metadata": {
  "language_info": {
   "name": "python"
  },
  "orig_nbformat": 4
 },
 "nbformat": 4,
 "nbformat_minor": 2
}

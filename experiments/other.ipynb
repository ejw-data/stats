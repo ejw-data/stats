{
 "cells": [
  {
   "cell_type": "code",
   "execution_count": null,
   "metadata": {},
   "outputs": [],
   "source": [
    "# pySixSigma: While not a comprehensive Six Sigma library, this is a small package specifically aimed at helping with Six Sigma calculations and metrics."
   ]
  },
  {
   "cell_type": "code",
   "execution_count": null,
   "metadata": {},
   "outputs": [],
   "source": [
    "# reliability: This library is specialized for reliability engineering and survival analysis, which can be relevant in certain Six Sigma applications"
   ]
  }
 ],
 "metadata": {
  "language_info": {
   "name": "python"
  },
  "orig_nbformat": 4
 },
 "nbformat": 4,
 "nbformat_minor": 2
}

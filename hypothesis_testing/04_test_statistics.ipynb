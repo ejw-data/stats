{
 "cells": [
  {
   "cell_type": "markdown",
   "id": "1c2defbf",
   "metadata": {},
   "source": [
    "# Test Statistics and Hypothesis Testing"
   ]
  },
  {
   "cell_type": "code",
   "execution_count": 3,
   "id": "ea6f44d2",
   "metadata": {},
   "outputs": [],
   "source": [
    "# Dependencies\n",
    "import numpy as np\n",
    "import statistics as st\n",
    "import matplotlib.pyplot as plt\n",
    "import scipy.stats as sc\n",
    "from scipy.stats import t"
   ]
  },
  {
   "cell_type": "code",
   "execution_count": null,
   "id": "29fc4120",
   "metadata": {},
   "outputs": [],
   "source": [
    "# Overview\n",
    "\n",
    "# t-tests are very important to understand\n",
    "# Previously covered are notebooks about alpha and distribution\n",
    "# I tend to call the t-distribution test statisic the t-value\n",
    "# The t-value is also a metric that determines an x-axis measure\n",
    "# I tend to think of the x-axis as a measure of standard deviation and the p-value is the area to the 'outside' of this measure\n"
   ]
  },
  {
   "cell_type": "markdown",
   "id": "b59b2da1",
   "metadata": {},
   "source": [
    "## Calculating t-value, p-value"
   ]
  },
  {
   "cell_type": "code",
   "execution_count": 4,
   "id": "d274a6c1",
   "metadata": {},
   "outputs": [
    {
     "data": {
      "application/javascript": [
       "\n",
       "        if (window._pyforest_update_imports_cell) { window._pyforest_update_imports_cell('import seaborn as sns'); }\n",
       "    "
      ],
      "text/plain": [
       "<IPython.core.display.Javascript object>"
      ]
     },
     "metadata": {},
     "output_type": "display_data"
    },
    {
     "data": {
      "text/plain": [
       "<matplotlib.legend.Legend at 0x1dd0506f220>"
      ]
     },
     "execution_count": 4,
     "metadata": {},
     "output_type": "execute_result"
    },
    {
     "data": {
      "image/png": "[encoded data removed]",
      "text/plain": [
       "<Figure size 432x288 with 1 Axes>"
      ]
     },
     "metadata": {
      "needs_background": "light"
     },
     "output_type": "display_data"
    }
   ],
   "source": [
    "# t-distribution with 30 Degrees of Freedom\n",
    "# With 30+ DOF, the distribution is very similar to a normal distribution\n",
    "\n",
    "fig, ax = plt.subplots()\n",
    "plt.xlim(-4,4)\n",
    "x = t.rvs(df=30, size=10000)\n",
    "sns.kdeplot(x, ax=ax, label=f\"t-Distribution (df = 30)\")\n",
    "plt.legend()"
   ]
  },
  {
   "cell_type": "code",
   "execution_count": 5,
   "id": "19a7d65f",
   "metadata": {},
   "outputs": [
    {
     "data": {
      "text/plain": [
       "[<matplotlib.lines.Line2D at 0x1dd0634c190>]"
      ]
     },
     "execution_count": 5,
     "metadata": {},
     "output_type": "execute_result"
    },
    {
     "data": {
      "image/png": "[encoded data removed]",
      "text/plain": [
       "<Figure size 432x288 with 1 Axes>"
      ]
     },
     "metadata": {
      "needs_background": "light"
     },
     "output_type": "display_data"
    }
   ],
   "source": [
    "# t-distribution\n",
    "# y axis indicates the the area under the t-distribution curve and can help determine the p-value\n",
    "mean=0\n",
    "std=1\n",
    "\n",
    "x=np.linspace(mean-4*std, mean+4*std,1000)\n",
    "plt.plot(x,t.cdf(x,df=30),'b')"
   ]
  },
  {
   "cell_type": "markdown",
   "id": "38a55a9c",
   "metadata": {},
   "source": [
    "Shows t-dist has heavy tails (aka greater kurtosis) thus causing a smaller peak\n",
    "\n"
   ]
  },
  {
   "cell_type": "code",
   "execution_count": 35,
   "id": "7a79d5ce",
   "metadata": {},
   "outputs": [
    {
     "name": "stdout",
     "output_type": "stream",
     "text": [
      "The one tailed p-value is 0.027\n",
      "The two tailed p-value is 0.055\n"
     ]
    }
   ],
   "source": [
    "# calculate the p-value of test statistic\n",
    "\n",
    "# test statistic\n",
    "t_value = 2.0\n",
    "\n",
    "# one-tailed p-value\n",
    "p_value_one_tail = (1 - t.cdf(x=abs(t_value), df=30))\n",
    "print(f\"The one tailed p-value is {round(p_value_one_tail,3)}\")\n",
    "\n",
    "# # alternate way to calculate one tail p-value\n",
    "# p_value = sc.t.sf(abs(t_value), df=30)\n",
    "# print(f\"The one tailed p-value is {round(p_value,3)}\")\n",
    "\n",
    "# two-tailed p-value\n",
    "#calculate p-value\n",
    "p_value_two_tail = (1 - t.cdf(x=abs(t_value), df=30)) * 2\n",
    "print(f\"The two tailed p-value is {round(p_value_two_tail,3)}\")\n",
    "\n",
    "# # alternate way to calculate two tail p-value\n",
    "# p_value = sc.t.sf(abs(t_value), df=30)*2\n",
    "# print(f\"The two tailed p-value is {round(p_value,3)}\")"
   ]
  },
  {
   "cell_type": "markdown",
   "id": "d99de07a",
   "metadata": {
    "tags": []
   },
   "source": [
    "## Using t-test with two data sets"
   ]
  },
  {
   "cell_type": "code",
   "execution_count": 30,
   "id": "431d3c19",
   "metadata": {},
   "outputs": [
    {
     "name": "stdout",
     "output_type": "stream",
     "text": [
      "The t-value is -1.3771352530211665\n",
      "The p-value is 0.17376239331825957\n"
     ]
    }
   ],
   "source": [
    "# Random values from t-distribution\n",
    "# Default ttest_ind is two tail (as set by `alternative` parameter)\n",
    "\n",
    "rand_data_1 = np.random.standard_t(df=30, size=30)\n",
    "rand_data_2 = np.random.standard_t(df=30, size=30)\n",
    "statistic, pvalue = sc.ttest_ind(rand_data_1, rand_data_2)\n",
    "print(f\"The t-value is {statistic}\")\n",
    "print(f\"The p-value is {pvalue}\")"
   ]
  },
  {
   "cell_type": "code",
   "execution_count": 38,
   "id": "2bcd1a08",
   "metadata": {},
   "outputs": [
    {
     "name": "stdout",
     "output_type": "stream",
     "text": [
      "The two tail p-value is 0.179\n"
     ]
    }
   ],
   "source": [
    "# Double check that we can calculate the p-value from the test statistic\n",
    "\n",
    "# p_value_two_tail = sc.t.sf(abs(statistic), df=30)*2\n",
    "p_value_two_tail = (1 - t.cdf(x=abs(statistic), df=30)) * 2\n",
    "print(f\"The two tail p-value is {p_value_two_tail:0.3f}\")"
   ]
  },
  {
   "cell_type": "markdown",
   "id": "b2f3d6a7",
   "metadata": {
    "tags": []
   },
   "source": [
    "T-statistic is in units of standard error\n",
    "So a t-statistic of zero means there is no evidence that the two samples are different so fail to reject null hypothesis\n",
    "The p-value is the area under the curve from the T-static to the right for a one-tail (right) t-test or to the left for a one-tail (left) t-test or the tails for a two-tail t-test"
   ]
  },
  {
   "cell_type": "markdown",
   "id": "d89a6e4a",
   "metadata": {},
   "source": [
    "## Test Statistic Concepts"
   ]
  },
  {
   "cell_type": "markdown",
   "id": "4a58e866",
   "metadata": {},
   "source": [
    "As mentioned above, the test statistic is a measure that indicates the relationship between two groups with the density function x-axis.\n",
    "So this basically means that the x-axis is set in multiples of the standard error\n",
    "\n",
    "To reiterate, the t-distribution is a function of the number of degrees of freedom and is labeled as $T_{DOF}$\n"
   ]
  },
  {
   "cell_type": "markdown",
   "id": "075983c0",
   "metadata": {},
   "source": [
    "This is the equation for standard deviation (biased estimator):\n",
    "\n",
    "$Standard Deviation = \\sigma = \\sqrt{\\frac{\\sum{(x_1 - \\mu)}^2}{N}}$ "
   ]
  },
  {
   "cell_type": "markdown",
   "id": "c1021550",
   "metadata": {},
   "source": [
    "$Standard Error = \\frac{\\sigma}{\\sqrt{n}}$"
   ]
  },
  {
   "cell_type": "markdown",
   "id": "4547620c",
   "metadata": {},
   "source": [
    "## Types of t-tests"
   ]
  },
  {
   "cell_type": "markdown",
   "id": "8e871080",
   "metadata": {},
   "source": [
    "### Why use t-distribution?\n",
    "* tends to be a good estimator even when population variance is not known\n",
    "* fairly robust against errors even when the distribution is not very normally shaped or sufficiently large (30+ samples)\n",
    "* more important is that the data is distributed symetrically\n",
    "* also a two tail test is less affected by skewness than a one tail test\n",
    "\n",
    "### Testing Assumptions\n",
    "* Boxplot shows symmetry - median in middle of box and equal size whiskers\n",
    "* Histogram looks symmetrical\n",
    "* Mean is similar to the median\n",
    "* Coefficient of skewness is small\n",
    "* QQ Plot is linear\n",
    "* Shapiro-Wilk - W-stat and p-value are greater than $\\alpha$ theshold\n",
    "\n",
    "### One Sample t-Test (population variation unknown)\n",
    "* One group is being tested and inferring results to the greater population\n",
    "* Example: Comparing weight loss of a group after a time lapse (one tail (left) t-Test or two tail t-test if the results could be an overall weight loss or gain)\n",
    "\n",
    "### Two Sample t-Test (equal or unequal variation methods) \n",
    "* Comparing two independent groups of the same population\n",
    "* Example: Cancer Treatment Group versus Placebo Group\n",
    "\n",
    "### Paired Sample t-Test\n",
    "* Sample from a population is selected and two measurements for each unique item (each item's pair is considered a sample)\n",
    "* The paired measurements are not independent.\n",
    "* Alternate names are matched samples or repeated measures\n",
    "* Example:  Effect of Beer versus Wine on Memory of X number of people\n",
    "\n",
    "\n",
    "### Two Sample versus Paired t-Tests\n",
    "*  Here are two methods to do the same thing:  create a group of 20 people who will do one task (drink beer) and another group of 20 people who do another task (drink wine).  The two sample t-test would be used.  The other method is to have a group of 20 people and have them do two tasks (drink beer, drink wine).  The paired t-test would be used.\n",
    "*  Paired test requires few participants but typically have more issues with implementation/interference effects (participant not giving true responses, order effects, etc)\n",
    "* Paired test has greater control of confounding variables but participants could be biased since they might figure out the purpose of the tests."
   ]
  },
  {
   "cell_type": "markdown",
   "id": "d5e14f8c",
   "metadata": {},
   "source": [
    "## T-value Formulas"
   ]
  },
  {
   "cell_type": "markdown",
   "id": "564735cf",
   "metadata": {},
   "source": [
    "Equations below show the numerator as the difference between the means and the denominator as an estimate of the standard error (see above)\n",
    "\n",
    "The T-value is an estimate of how many units of standard error are between the two sample means.  The t-distribution is used to determine if this test statistic is greater than (reject null hypothesis) or less than (fail to reject null hypothesis) the threshold (the standard error units associated with $\\alpha$)\n"
   ]
  },
  {
   "cell_type": "markdown",
   "id": "7a67aaea",
   "metadata": {},
   "source": [
    "<hr>\n",
    "\n",
    "### Unequal Variance t-test (aka Welch t-test)\n",
    "* Another term for unequal variances is heteroscedasticity\n",
    "* Used when variances are different or unknown (uses cautious test statistic)\n",
    "<br>\n",
    "\n",
    "$T-value = \\frac{mean_1 - mean_2}{\\sqrt{\\Biggl( \\frac{var_1}{n_1} + \\frac{var_2}{n_2} \\Biggr) }}$\n",
    "\n",
    "The degree of freedoms is calculated as:\n",
    "\n",
    "$ D of F = \\frac{ \\Biggl( \\frac{var_1^2}{n_1} + \\frac{var_2^2}{n_2} \\Biggr)^2}{\\frac{ \\Biggl( \\frac{var_1^2}{n_1} \\Biggr)^2}{n_1-1} + \\frac{ \\Biggl(\\frac{var_2^2}{n_2} \\Biggr)^2}{n_2-1}}$  \n",
    "\n",
    "Python method: `scipy.stats.ttest_ind(arr1, arr2, equal_var= False)`"
   ]
  },
  {
   "cell_type": "markdown",
   "id": "009b822f",
   "metadata": {},
   "source": [
    "<br>\n",
    "<hr>\n",
    "\n",
    "### Equal Variance or Pooled T-test\n",
    "<br>\n",
    "\n",
    "$T-value = \\frac{mean_1 - mean_2}{ \\frac{(n_1 - 1) x var_1^2+(n_2-1) x var_2^2}{n+1 + n_2 - 2} X \\sqrt{\\frac{1}{n_1} + \\frac{1}{n_2}} }$\n",
    "\n",
    "$DofF = n_1 + n_2 - 2$  \n",
    "\n",
    "Python method:  `scipy.stats.ttest_ind(arr1, arr2, , equal_var= False)`"
   ]
  },
  {
   "cell_type": "markdown",
   "id": "3163cb51",
   "metadata": {},
   "source": [
    "<br>\n",
    "<hr>\n",
    "\n",
    "### Paired t-test\n",
    "<br>\n",
    "\n",
    "$ T-value = \\frac{mean_1 - mean_2}{\\frac{s(diff)}{\\sqrt{(n)}}} $\n",
    "    \n",
    "The degreees of freedom are `n-1`\n",
    "\n",
    "Python method:  `scipy.stats.ttest_rel(arr1, arr2)`"
   ]
  },
  {
   "cell_type": "markdown",
   "id": "8cdeed2f",
   "metadata": {},
   "source": [
    "<br>\n",
    "<hr>\n",
    "\n",
    "### Confidence Intervals\n",
    "\n",
    "$Confidence Interval = x \\pm t_{1 - \\alpha/2, n-1} \\Biggl(\\frac{s}{\\sqrt{n}}\\Biggr)$"
   ]
  },
  {
   "cell_type": "markdown",
   "id": "d6638610",
   "metadata": {},
   "source": [
    "### Other Considerations\n",
    "\n",
    "1.  Use t-distribution when the population standard deviation is unknown\n",
    "1.  Use t-distribution when the sample is less than 30 records\n",
    "1.  Use z-distribution when the population standard deviation is known and the sample has 30+ records"
   ]
  },
  {
   "cell_type": "code",
   "execution_count": null,
   "id": "16b71edb",
   "metadata": {},
   "outputs": [],
   "source": []
  }
 ],
 "metadata": {
  "kernelspec": {
   "display_name": "Python [conda env:PythonDataS2022]",
   "language": "python",
   "name": "conda-env-PythonDataS2022-py"
  },
  "language_info": {
   "codemirror_mode": {
    "name": "ipython",
    "version": 3
   },
   "file_extension": ".py",
   "mimetype": "text/x-python",
   "name": "python",
   "nbconvert_exporter": "python",
   "pygments_lexer": "ipython3",
   "version": "3.8.12"
  }
 },
 "nbformat": 4,
 "nbformat_minor": 5
}

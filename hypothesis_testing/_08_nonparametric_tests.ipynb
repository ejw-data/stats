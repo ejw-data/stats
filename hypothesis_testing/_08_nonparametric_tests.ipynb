{
 "cells": [
  {
   "cell_type": "markdown",
   "id": "c8b9b43b",
   "metadata": {},
   "source": [
    "# Non-parametric Tests"
   ]
  },
  {
   "cell_type": "markdown",
   "id": "02ce1a4e",
   "metadata": {},
   "source": [
    "* Sample Sign Test - https://www.statsmodels.org/dev/generated/statsmodels.stats.descriptivestats.sign_test.html\n",
    "* Levene's Test - https://docs.scipy.org/doc/scipy/reference/generated/scipy.stats.levene.html\n",
    "* Mann Whitney - https://docs.scipy.org/doc/scipy/reference/generated/scipy.stats.mannwhitneyu.html\n",
    "* Kruskal Wallis - https://docs.scipy.org/doc/scipy/reference/generated/scipy.stats.kruskal.html\n",
    "* Moods Median - https://docs.scipy.org/doc/scipy/reference/generated/scipy.stats.median_test.html\n",
    "* Friedmans - https://docs.scipy.org/doc/scipy/reference/generated/scipy.stats.friedmanchisquare.html\n",
    "* Wilcoxon Rank Test (comparing medians) - https://docs.scipy.org/doc/scipy/reference/generated/scipy.stats.wilcoxon.html"
   ]
  },
  {
   "cell_type": "markdown",
   "id": "8ec97eb8",
   "metadata": {},
   "source": [
    "Note:  \n",
    "Levene's Test is for testing equal variance but typically for non-normal data  \n",
    "Bartlett's Test (F-test) is used for testing equal variance but typically used for normal data"
   ]
  },
  {
   "cell_type": "code",
   "execution_count": null,
   "id": "72ed9c40",
   "metadata": {},
   "outputs": [],
   "source": [
    "https://www.statsmodels.org/dev/generated/statsmodels.stats.descriptivestats.sign_test.html\n",
    "https://machinelearningmastery.com/nonparametric-statistical-significance-tests-in-python/"
   ]
  }
 ],
 "metadata": {
  "kernelspec": {
   "display_name": "Python [conda env:PythonDataS2022]",
   "language": "python",
   "name": "conda-env-PythonDataS2022-py"
  },
  "language_info": {
   "codemirror_mode": {
    "name": "ipython",
    "version": 3
   },
   "file_extension": ".py",
   "mimetype": "text/x-python",
   "name": "python",
   "nbconvert_exporter": "python",
   "pygments_lexer": "ipython3",
   "version": "3.8.12"
  }
 },
 "nbformat": 4,
 "nbformat_minor": 5
}

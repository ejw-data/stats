{
 "cells": [
  {
   "cell_type": "markdown",
   "id": "7b4d7b92",
   "metadata": {},
   "source": [
    "# Likelihood versus Probability"
   ]
  },
  {
   "cell_type": "code",
   "execution_count": 1,
   "id": "dc06f2f7",
   "metadata": {},
   "outputs": [],
   "source": [
    "# Using PythonDataS2022 conda environment"
   ]
  },
  {
   "cell_type": "code",
   "execution_count": 2,
   "id": "1b6134fd",
   "metadata": {},
   "outputs": [],
   "source": [
    "import numpy as np\n",
    "import statistics as st\n",
    "import matplotlib.pyplot as plt\n",
    "import scipy.stats as sc"
   ]
  },
  {
   "cell_type": "code",
   "execution_count": 3,
   "id": "fa7dba62",
   "metadata": {},
   "outputs": [
    {
     "name": "stdout",
     "output_type": "stream",
     "text": [
      "The standard deviation of a two tail test at an alpha of 0.05 is 1.96 standard deviations\n"
     ]
    }
   ],
   "source": [
    "# ppf() is equivalent to a 'One-tail test' on the density plot\n",
    "alpha = 0.05\n",
    "alpha_one_tail = alpha\n",
    "alpha_two_tail = alpha/2\n",
    "\n",
    "# ppf - percent point function (inverse of cdf)\n",
    "# input percent area and returns standard deviation (x value)\n",
    "x_deviation = sc.norm.ppf(1- alpha_two_tail)\n",
    "print(f'The standard deviation of a two tail test at an alpha of {alpha} \\\n",
    "is {round(x_deviation,3)} standard deviations')"
   ]
  },
  {
   "cell_type": "code",
   "execution_count": 4,
   "id": "49ce7b3b",
   "metadata": {},
   "outputs": [
    {
     "name": "stdout",
     "output_type": "stream",
     "text": [
      "The likelihood of an alpha value of 0.05 is 0.058\n"
     ]
    }
   ],
   "source": [
    "# the likelihood value\n",
    "likelihood = sc.norm.pdf(x_deviation)\n",
    "print(f\"The likelihood of an alpha value of {alpha} is {round(likelihood,3)}\")"
   ]
  },
  {
   "cell_type": "code",
   "execution_count": 5,
   "id": "41d48466",
   "metadata": {},
   "outputs": [
    {
     "data": {
      "text/plain": [
       "<matplotlib.collections.LineCollection at 0x22e6dac0130>"
      ]
     },
     "execution_count": 5,
     "metadata": {},
     "output_type": "execute_result"
    },
    {
     "data": {
      "image/png": "[encoded data removed]",
      "text/plain": [
       "<Figure size 432x288 with 1 Axes>"
      ]
     },
     "metadata": {
      "needs_background": "light"
     },
     "output_type": "display_data"
    }
   ],
   "source": [
    "# Here is a visual of the normal distribution\n",
    "density_function=[]\n",
    "std_dev= np.arange(-3,3, 0.05)\n",
    "for i in std_dev:\n",
    "    density_function.append(sc.norm.pdf(i))\n",
    "    \n",
    "plt.plot(std_dev, density_function)\n",
    "\n",
    "plt.vlines(x_deviation, 0, sc.norm.pdf(x_deviation), color=\"r\", linestyle=\"dotted\")\n",
    "plt.scatter(x_deviation, sc.norm.pdf(x_deviation), color=\"r\")\n",
    "\n",
    "plt.vlines(sc.norm.ppf(alpha_two_tail), 0, sc.norm.pdf(sc.norm.ppf(alpha_two_tail)), color=\"r\", linestyle=\"dotted\")\n",
    "plt.scatter(sc.norm.ppf(alpha_two_tail), sc.norm.pdf(sc.norm.ppf(alpha_two_tail)), color=\"r\")\n",
    "\n",
    "plt.hlines(likelihood,-3,3, color='r', linestyle=\"dotted\")"
   ]
  },
  {
   "cell_type": "markdown",
   "id": "18fe5f1e",
   "metadata": {},
   "source": [
    "In the plot above the red dot is at ~1.96 standard deviations at the 0.05 alpha level and has a likelihood of ~0.058."
   ]
  },
  {
   "cell_type": "code",
   "execution_count": 6,
   "id": "9869a4a0",
   "metadata": {},
   "outputs": [
    {
     "name": "stdout",
     "output_type": "stream",
     "text": [
      "The two tail probability at an alpha of 0.05 is 0.025 for each tail\n"
     ]
    }
   ],
   "source": [
    "# The probability is the area in the tails of the distribution.\n",
    "probability = sc.norm.cdf(x_deviation)\n",
    "print(f\"The two tail probability at an alpha of {alpha} is {round(1-probability,3)} for each tail\")"
   ]
  },
  {
   "cell_type": "code",
   "execution_count": 13,
   "id": "a7802af5",
   "metadata": {},
   "outputs": [
    {
     "data": {
      "text/plain": [
       "<matplotlib.collections.PolyCollection at 0x22e6edc6fa0>"
      ]
     },
     "execution_count": 13,
     "metadata": {},
     "output_type": "execute_result"
    },
    {
     "data": {
      "image/png": "[encoded data removed]",
      "text/plain": [
       "<Figure size 432x288 with 1 Axes>"
      ]
     },
     "metadata": {
      "needs_background": "light"
     },
     "output_type": "display_data"
    }
   ],
   "source": [
    "# Here is a visual of the normal distribution\n",
    "\n",
    "fig, ax = plt.subplots()\n",
    "\n",
    "density_function=[]\n",
    "std_dev= np.arange(-3,3, 0.05)\n",
    "for i in std_dev:\n",
    "    density_function.append(sc.norm.pdf(i))\n",
    "    \n",
    "ax.plot(std_dev, density_function)\n",
    "\n",
    "ax.vlines(x_deviation, 0, sc.norm.pdf(x_deviation), color=\"r\", linestyle=\"dotted\")\n",
    "ax.scatter(x_deviation, sc.norm.pdf(x_deviation), color=\"r\")\n",
    "\n",
    "ax.vlines(sc.norm.ppf(alpha_two_tail), 0, sc.norm.pdf(sc.norm.ppf(alpha_two_tail)), color=\"r\", linestyle=\"dotted\")\n",
    "ax.scatter(sc.norm.ppf(alpha_two_tail), sc.norm.pdf(sc.norm.ppf(alpha_two_tail)), color=\"r\")\n",
    "\n",
    "ax.hlines(likelihood,-3,3, color='r', linestyle=\"dotted\")\n",
    "\n",
    "mean=0\n",
    "std=1\n",
    "iq=sc.norm(mean,std)\n",
    "pr=np.arange(x_deviation, 4, 0.1)\n",
    "ax.fill_between(pr,iq.pdf(pr),color='lightcoral')\n",
    "pl=np.arange(-4, -x_deviation, 0.1)\n",
    "ax.fill_between(pl,iq.pdf(pl),color='lightcoral')"
   ]
  },
  {
   "cell_type": "markdown",
   "id": "21e71230",
   "metadata": {},
   "source": [
    "The red dots indicate the likelihood of 0.058  \n",
    "The light red area is the probability of 0.05 combined for each tail"
   ]
  },
  {
   "cell_type": "code",
   "execution_count": 14,
   "id": "7a11b78a",
   "metadata": {},
   "outputs": [],
   "source": [
    "from datetime import datetime\n",
    "import random\n",
    "fig.savefig(f'./images/likelihood_probability_{datetime.today().strftime(\"%Y_%m_%d\")}_{random.randint(10, 99)}')"
   ]
  },
  {
   "cell_type": "code",
   "execution_count": null,
   "id": "087464ab",
   "metadata": {},
   "outputs": [],
   "source": []
  }
 ],
 "metadata": {
  "kernelspec": {
   "display_name": "Python [conda env:PythonDataS2022]",
   "language": "python",
   "name": "conda-env-PythonDataS2022-py"
  },
  "language_info": {
   "codemirror_mode": {
    "name": "ipython",
    "version": 3
   },
   "file_extension": ".py",
   "mimetype": "text/x-python",
   "name": "python",
   "nbconvert_exporter": "python",
   "pygments_lexer": "ipython3",
   "version": "3.8.12"
  }
 },
 "nbformat": 4,
 "nbformat_minor": 5
}

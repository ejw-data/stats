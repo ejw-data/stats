{
 "cells": [
  {
   "cell_type": "markdown",
   "id": "5d840e90",
   "metadata": {},
   "source": [
    "# Normality Tests"
   ]
  },
  {
   "cell_type": "markdown",
   "id": "8728e624",
   "metadata": {},
   "source": [
    "* Kolmogorov-Smirnov Test\n",
    "* Shapiro-Wilk Test\n",
    "* D'Agostino's $K^2$ Test\n",
    "* https://www.geeksforgeeks.org/stem-and-leaf-plots-in-python/\n",
    "* Boxplots\n",
    "* Histograms\n"
   ]
  }
 ],
 "metadata": {
  "kernelspec": {
   "display_name": "Python [conda env:PythonDataS2022]",
   "language": "python",
   "name": "conda-env-PythonDataS2022-py"
  },
  "language_info": {
   "codemirror_mode": {
    "name": "ipython",
    "version": 3
   },
   "file_extension": ".py",
   "mimetype": "text/x-python",
   "name": "python",
   "nbconvert_exporter": "python",
   "pygments_lexer": "ipython3",
   "version": "3.8.12"
  }
 },
 "nbformat": 4,
 "nbformat_minor": 5
}
